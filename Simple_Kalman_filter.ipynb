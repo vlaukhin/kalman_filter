{
 "cells": [
  {
   "cell_type": "code",
   "execution_count": null,
   "metadata": {},
   "outputs": [],
   "source": [
    "class KalmanFilterSimple1D:\n",
    "    #X0 - predicted state\n",
    "    #P0 - predicted covariance\n",
    "    #F - factor of real value to previous real value\n",
    "    #Q - measurement noise\n",
    "    #H - factor of measured value to real value\n",
    "    #R - environment noise\n",
    "    F = 1 \n",
    "    H = 1\n",
    "    def __init__(self, F, H, Q, R):\n",
    "        self.F = F\n",
    "        self.H = H\n",
    "        self.Q = Q\n",
    "        self.R = R\n",
    "    def set_state(self, state, covariance):\n",
    "        self.State = state\n",
    "        self.Covariance = covariance\n",
    "    def correct(self, data):\n",
    "        # time update - prediction\n",
    "        X0 = self.F*self.State \n",
    "        P0 = self.F*self.Covariance*self.F + self.Q \n",
    "\n",
    "        # measurement update - correction\n",
    "        K = self.H*P0/(self.H*P0*self.H + self.R)\n",
    "        self.State = X0 + K*(data - self.H*X0)\n",
    "        self.Covariance = (1 - K*self.H)*P0\n",
    "        return self.State"
   ]
  }
 ],
 "metadata": {
  "kernelspec": {
   "display_name": "Python 3",
   "language": "python",
   "name": "python3"
  },
  "language_info": {
   "codemirror_mode": {
    "name": "ipython",
    "version": 3
   },
   "file_extension": ".py",
   "mimetype": "text/x-python",
   "name": "python",
   "nbconvert_exporter": "python",
   "pygments_lexer": "ipython3",
   "version": "3.7.3"
  }
 },
 "nbformat": 4,
 "nbformat_minor": 2
}
